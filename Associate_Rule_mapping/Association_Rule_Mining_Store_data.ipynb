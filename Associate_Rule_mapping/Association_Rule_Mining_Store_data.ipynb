{
  "cells": [
    {
      "cell_type": "markdown",
      "metadata": {
        "colab_type": "text",
        "id": "view-in-github"
      },
      "source": [
        "<a href=\"https://colab.research.google.com/github/Sindhura-tr/Machine-Learning-satsun-5-7/blob/main/Association_Rule_Mining_Store_data.ipynb\" target=\"_parent\"><img src=\"https://colab.research.google.com/assets/colab-badge.svg\" alt=\"Open In Colab\"/></a>"
      ]
    },
    {
      "cell_type": "code",
      "execution_count": 1,
      "metadata": {
        "colab": {
          "base_uri": "https://localhost:8080/"
        },
        "id": "3OEbw_buALcH",
        "outputId": "cb224c93-d474-450c-9846-27d39186f40b"
      },
      "outputs": [
        {
          "name": "stdout",
          "output_type": "stream",
          "text": [
            "Collecting apyori\n",
            "  Downloading apyori-1.1.2.tar.gz (8.6 kB)\n",
            "  Preparing metadata (setup.py): started\n",
            "  Preparing metadata (setup.py): finished with status 'done'\n",
            "Building wheels for collected packages: apyori\n",
            "  Building wheel for apyori (setup.py): started\n",
            "  Building wheel for apyori (setup.py): finished with status 'done'\n",
            "  Created wheel for apyori: filename=apyori-1.1.2-py3-none-any.whl size=5996 sha256=2f2d7d4fb6426ec05b2ecd635ff809ab779bccf14f67f710efd2fbcb638c119b\n",
            "  Stored in directory: c:\\users\\atul\\appdata\\local\\pip\\cache\\wheels\\c4\\1a\\79\\20f55c470a50bb3702a8cb7c94d8ada15573538c7f4baebe2d\n",
            "Successfully built apyori\n",
            "Installing collected packages: apyori\n",
            "Successfully installed apyori-1.1.2\n",
            "Note: you may need to restart the kernel to use updated packages.\n"
          ]
        },
        {
          "name": "stderr",
          "output_type": "stream",
          "text": [
            "\n",
            "[notice] A new release of pip is available: 25.0 -> 25.0.1\n",
            "[notice] To update, run: python.exe -m pip install --upgrade pip\n"
          ]
        }
      ],
      "source": [
        "%pip install apyori"
      ]
    },
    {
      "cell_type": "markdown",
      "metadata": {
        "id": "IEkwMED_AXng"
      },
      "source": [
        "## Association Rule Mining"
      ]
    },
    {
      "cell_type": "code",
      "execution_count": 3,
      "metadata": {
        "colab": {
          "base_uri": "https://localhost:8080/",
          "height": 258
        },
        "id": "xXYDI7CLAUmJ",
        "outputId": "b9aea6ad-1c43-4a95-f081-d68a6d498bc6"
      },
      "outputs": [
        {
          "data": {
            "text/html": [
              "<div>\n",
              "<style scoped>\n",
              "    .dataframe tbody tr th:only-of-type {\n",
              "        vertical-align: middle;\n",
              "    }\n",
              "\n",
              "    .dataframe tbody tr th {\n",
              "        vertical-align: top;\n",
              "    }\n",
              "\n",
              "    .dataframe thead th {\n",
              "        text-align: right;\n",
              "    }\n",
              "</style>\n",
              "<table border=\"1\" class=\"dataframe\">\n",
              "  <thead>\n",
              "    <tr style=\"text-align: right;\">\n",
              "      <th></th>\n",
              "      <th>0</th>\n",
              "      <th>1</th>\n",
              "      <th>2</th>\n",
              "      <th>3</th>\n",
              "      <th>4</th>\n",
              "      <th>5</th>\n",
              "      <th>6</th>\n",
              "      <th>7</th>\n",
              "      <th>8</th>\n",
              "      <th>9</th>\n",
              "      <th>10</th>\n",
              "      <th>11</th>\n",
              "      <th>12</th>\n",
              "      <th>13</th>\n",
              "      <th>14</th>\n",
              "      <th>15</th>\n",
              "      <th>16</th>\n",
              "      <th>17</th>\n",
              "      <th>18</th>\n",
              "      <th>19</th>\n",
              "    </tr>\n",
              "  </thead>\n",
              "  <tbody>\n",
              "    <tr>\n",
              "      <th>0</th>\n",
              "      <td>shrimp</td>\n",
              "      <td>almonds</td>\n",
              "      <td>avocado</td>\n",
              "      <td>vegetables mix</td>\n",
              "      <td>green grapes</td>\n",
              "      <td>whole weat flour</td>\n",
              "      <td>yams</td>\n",
              "      <td>cottage cheese</td>\n",
              "      <td>energy drink</td>\n",
              "      <td>tomato juice</td>\n",
              "      <td>low fat yogurt</td>\n",
              "      <td>green tea</td>\n",
              "      <td>honey</td>\n",
              "      <td>salad</td>\n",
              "      <td>mineral water</td>\n",
              "      <td>salmon</td>\n",
              "      <td>antioxydant juice</td>\n",
              "      <td>frozen smoothie</td>\n",
              "      <td>spinach</td>\n",
              "      <td>olive oil</td>\n",
              "    </tr>\n",
              "    <tr>\n",
              "      <th>1</th>\n",
              "      <td>burgers</td>\n",
              "      <td>meatballs</td>\n",
              "      <td>eggs</td>\n",
              "      <td>NaN</td>\n",
              "      <td>NaN</td>\n",
              "      <td>NaN</td>\n",
              "      <td>NaN</td>\n",
              "      <td>NaN</td>\n",
              "      <td>NaN</td>\n",
              "      <td>NaN</td>\n",
              "      <td>NaN</td>\n",
              "      <td>NaN</td>\n",
              "      <td>NaN</td>\n",
              "      <td>NaN</td>\n",
              "      <td>NaN</td>\n",
              "      <td>NaN</td>\n",
              "      <td>NaN</td>\n",
              "      <td>NaN</td>\n",
              "      <td>NaN</td>\n",
              "      <td>NaN</td>\n",
              "    </tr>\n",
              "    <tr>\n",
              "      <th>2</th>\n",
              "      <td>chutney</td>\n",
              "      <td>NaN</td>\n",
              "      <td>NaN</td>\n",
              "      <td>NaN</td>\n",
              "      <td>NaN</td>\n",
              "      <td>NaN</td>\n",
              "      <td>NaN</td>\n",
              "      <td>NaN</td>\n",
              "      <td>NaN</td>\n",
              "      <td>NaN</td>\n",
              "      <td>NaN</td>\n",
              "      <td>NaN</td>\n",
              "      <td>NaN</td>\n",
              "      <td>NaN</td>\n",
              "      <td>NaN</td>\n",
              "      <td>NaN</td>\n",
              "      <td>NaN</td>\n",
              "      <td>NaN</td>\n",
              "      <td>NaN</td>\n",
              "      <td>NaN</td>\n",
              "    </tr>\n",
              "    <tr>\n",
              "      <th>3</th>\n",
              "      <td>turkey</td>\n",
              "      <td>avocado</td>\n",
              "      <td>NaN</td>\n",
              "      <td>NaN</td>\n",
              "      <td>NaN</td>\n",
              "      <td>NaN</td>\n",
              "      <td>NaN</td>\n",
              "      <td>NaN</td>\n",
              "      <td>NaN</td>\n",
              "      <td>NaN</td>\n",
              "      <td>NaN</td>\n",
              "      <td>NaN</td>\n",
              "      <td>NaN</td>\n",
              "      <td>NaN</td>\n",
              "      <td>NaN</td>\n",
              "      <td>NaN</td>\n",
              "      <td>NaN</td>\n",
              "      <td>NaN</td>\n",
              "      <td>NaN</td>\n",
              "      <td>NaN</td>\n",
              "    </tr>\n",
              "    <tr>\n",
              "      <th>4</th>\n",
              "      <td>mineral water</td>\n",
              "      <td>milk</td>\n",
              "      <td>energy bar</td>\n",
              "      <td>whole wheat rice</td>\n",
              "      <td>green tea</td>\n",
              "      <td>NaN</td>\n",
              "      <td>NaN</td>\n",
              "      <td>NaN</td>\n",
              "      <td>NaN</td>\n",
              "      <td>NaN</td>\n",
              "      <td>NaN</td>\n",
              "      <td>NaN</td>\n",
              "      <td>NaN</td>\n",
              "      <td>NaN</td>\n",
              "      <td>NaN</td>\n",
              "      <td>NaN</td>\n",
              "      <td>NaN</td>\n",
              "      <td>NaN</td>\n",
              "      <td>NaN</td>\n",
              "      <td>NaN</td>\n",
              "    </tr>\n",
              "  </tbody>\n",
              "</table>\n",
              "</div>"
            ],
            "text/plain": [
              "              0          1           2                 3             4   \\\n",
              "0         shrimp    almonds     avocado    vegetables mix  green grapes   \n",
              "1        burgers  meatballs        eggs               NaN           NaN   \n",
              "2        chutney        NaN         NaN               NaN           NaN   \n",
              "3         turkey    avocado         NaN               NaN           NaN   \n",
              "4  mineral water       milk  energy bar  whole wheat rice     green tea   \n",
              "\n",
              "                 5     6               7             8             9   \\\n",
              "0  whole weat flour  yams  cottage cheese  energy drink  tomato juice   \n",
              "1               NaN   NaN             NaN           NaN           NaN   \n",
              "2               NaN   NaN             NaN           NaN           NaN   \n",
              "3               NaN   NaN             NaN           NaN           NaN   \n",
              "4               NaN   NaN             NaN           NaN           NaN   \n",
              "\n",
              "               10         11     12     13             14      15  \\\n",
              "0  low fat yogurt  green tea  honey  salad  mineral water  salmon   \n",
              "1             NaN        NaN    NaN    NaN            NaN     NaN   \n",
              "2             NaN        NaN    NaN    NaN            NaN     NaN   \n",
              "3             NaN        NaN    NaN    NaN            NaN     NaN   \n",
              "4             NaN        NaN    NaN    NaN            NaN     NaN   \n",
              "\n",
              "                  16               17       18         19  \n",
              "0  antioxydant juice  frozen smoothie  spinach  olive oil  \n",
              "1                NaN              NaN      NaN        NaN  \n",
              "2                NaN              NaN      NaN        NaN  \n",
              "3                NaN              NaN      NaN        NaN  \n",
              "4                NaN              NaN      NaN        NaN  "
            ]
          },
          "execution_count": 3,
          "metadata": {},
          "output_type": "execute_result"
        }
      ],
      "source": [
        "import pandas as pd\n",
        "df= pd.read_csv(r'D:\\Machine-Learning\\repository\\Associate_Rule_mapping\\store_data.csv',header=None)\n",
        "df.head()"
      ]
    },
    {
      "cell_type": "code",
      "execution_count": 4,
      "metadata": {
        "colab": {
          "base_uri": "https://localhost:8080/"
        },
        "id": "U2dkBdCnAd4a",
        "outputId": "593908ec-bd7e-47fd-8441-ccb2183af72c"
      },
      "outputs": [
        {
          "data": {
            "text/plain": [
              "(7501, 20)"
            ]
          },
          "execution_count": 4,
          "metadata": {},
          "output_type": "execute_result"
        }
      ],
      "source": [
        "df.shape"
      ]
    },
    {
      "cell_type": "markdown",
      "metadata": {
        "id": "KbQEoR-rAjvM"
      },
      "source": [
        "processing data for ARM algorithm"
      ]
    },
    {
      "cell_type": "code",
      "execution_count": 5,
      "metadata": {
        "id": "mCjCiOwAAiui"
      },
      "outputs": [],
      "source": [
        "records = []\n",
        "for i in range(df.shape[0]):\n",
        "  records.append([str(df.values[i,j]) for j in range(df.shape[1])])"
      ]
    },
    {
      "cell_type": "code",
      "execution_count": 6,
      "metadata": {
        "colab": {
          "base_uri": "https://localhost:8080/"
        },
        "id": "4fVHEkdAAwFn",
        "outputId": "866a7a7c-0cbc-474b-8047-85a7077440ed"
      },
      "outputs": [
        {
          "name": "stdout",
          "output_type": "stream",
          "text": [
            "[['shrimp', 'almonds', 'avocado', 'vegetables mix', 'green grapes', 'whole weat flour', 'yams', 'cottage cheese', 'energy drink', 'tomato juice', 'low fat yogurt', 'green tea', 'honey', 'salad', 'mineral water', 'salmon', 'antioxydant juice', 'frozen smoothie', 'spinach', 'olive oil'], ['burgers', 'meatballs', 'eggs', 'nan', 'nan', 'nan', 'nan', 'nan', 'nan', 'nan', 'nan', 'nan', 'nan', 'nan', 'nan', 'nan', 'nan', 'nan', 'nan', 'nan'], ['chutney', 'nan', 'nan', 'nan', 'nan', 'nan', 'nan', 'nan', 'nan', 'nan', 'nan', 'nan', 'nan', 'nan', 'nan', 'nan', 'nan', 'nan', 'nan', 'nan'], ['turkey', 'avocado', 'nan', 'nan', 'nan', 'nan', 'nan', 'nan', 'nan', 'nan', 'nan', 'nan', 'nan', 'nan', 'nan', 'nan', 'nan', 'nan', 'nan', 'nan'], ['mineral water', 'milk', 'energy bar', 'whole wheat rice', 'green tea', 'nan', 'nan', 'nan', 'nan', 'nan', 'nan', 'nan', 'nan', 'nan', 'nan', 'nan', 'nan', 'nan', 'nan', 'nan']]\n"
          ]
        }
      ],
      "source": [
        "print(records[:5])"
      ]
    },
    {
      "cell_type": "code",
      "execution_count": 7,
      "metadata": {
        "id": "W3I__iFRAxuK"
      },
      "outputs": [],
      "source": [
        "conf = 0.2\n",
        "sup = (7*5)/len(df)\n",
        "lift = 3"
      ]
    },
    {
      "cell_type": "code",
      "execution_count": 8,
      "metadata": {
        "id": "_d0PxT1yA42V"
      },
      "outputs": [],
      "source": [
        "from apyori import apriori\n",
        "association_rules = apriori(records,min_support=sup,min_confidence=conf,min_lift=lift)\n",
        "association_rules = list(association_rules)"
      ]
    },
    {
      "cell_type": "code",
      "execution_count": 9,
      "metadata": {
        "colab": {
          "base_uri": "https://localhost:8080/"
        },
        "id": "IJH1Qo6xBGVi",
        "outputId": "66bf127d-d9b9-4db1-b21b-83d4dd3514b4"
      },
      "outputs": [
        {
          "name": "stdout",
          "output_type": "stream",
          "text": [
            "44\n"
          ]
        }
      ],
      "source": [
        "print(len(association_rules))"
      ]
    },
    {
      "cell_type": "code",
      "execution_count": 10,
      "metadata": {
        "colab": {
          "base_uri": "https://localhost:8080/"
        },
        "id": "qZo544B0BJmt",
        "outputId": "659879a7-0cbc-4ee3-8a53-892c03422511"
      },
      "outputs": [
        {
          "data": {
            "text/plain": [
              "RelationRecord(items=frozenset({'escalope', 'mushroom cream sauce'}), support=0.005732568990801226, ordered_statistics=[OrderedStatistic(items_base=frozenset({'mushroom cream sauce'}), items_add=frozenset({'escalope'}), confidence=0.3006993006993007, lift=3.790832696715049)])"
            ]
          },
          "execution_count": 10,
          "metadata": {},
          "output_type": "execute_result"
        }
      ],
      "source": [
        "association_rules[0]"
      ]
    },
    {
      "cell_type": "code",
      "execution_count": 11,
      "metadata": {
        "colab": {
          "base_uri": "https://localhost:8080/"
        },
        "id": "y4XUUOCKBNf5",
        "outputId": "3a5c7e0e-ef1c-423b-9d8d-000de875de49"
      },
      "outputs": [
        {
          "data": {
            "text/plain": [
              "RelationRecord(items=frozenset({'escalope', 'pasta'}), support=0.005865884548726837, ordered_statistics=[OrderedStatistic(items_base=frozenset({'pasta'}), items_add=frozenset({'escalope'}), confidence=0.3728813559322034, lift=4.700811850163794)])"
            ]
          },
          "execution_count": 11,
          "metadata": {},
          "output_type": "execute_result"
        }
      ],
      "source": [
        "association_rules[1]"
      ]
    },
    {
      "cell_type": "code",
      "execution_count": 12,
      "metadata": {
        "colab": {
          "base_uri": "https://localhost:8080/"
        },
        "id": "zTbh259ZBce1",
        "outputId": "728d605f-2f59-4d38-e2ac-dd350d8d03bf"
      },
      "outputs": [
        {
          "data": {
            "text/plain": [
              "frozenset({'escalope', 'pasta'})"
            ]
          },
          "execution_count": 12,
          "metadata": {},
          "output_type": "execute_result"
        }
      ],
      "source": [
        "association_rules[1][0]"
      ]
    },
    {
      "cell_type": "code",
      "execution_count": 13,
      "metadata": {
        "colab": {
          "base_uri": "https://localhost:8080/"
        },
        "id": "q7YKoJxnBU1K",
        "outputId": "62adbaca-ae57-4c26-86a3-ae628fcb8dad"
      },
      "outputs": [
        {
          "name": "stdout",
          "output_type": "stream",
          "text": [
            "Rule: escalope-- >mushroom cream sauce\n",
            "Support0.005732568990801226\n",
            "Confidence0.3006993006993007\n",
            "Lift3.790832696715049\n",
            "==========================\n",
            "Rule: escalope-- >pasta\n",
            "Support0.005865884548726837\n",
            "Confidence0.3728813559322034\n",
            "Lift4.700811850163794\n",
            "==========================\n",
            "Rule: ground beef-- >herb & pepper\n",
            "Support0.015997866951073192\n",
            "Confidence0.3234501347708895\n",
            "Lift3.2919938411349285\n",
            "==========================\n",
            "Rule: ground beef-- >tomato sauce\n",
            "Support0.005332622317024397\n",
            "Confidence0.3773584905660377\n",
            "Lift3.840659481324083\n",
            "==========================\n",
            "Rule: olive oil-- >whole wheat pasta\n",
            "Support0.007998933475536596\n",
            "Confidence0.2714932126696833\n",
            "Lift4.122410097642296\n",
            "==========================\n",
            "Rule: shrimp-- >pasta\n",
            "Support0.005065991201173177\n",
            "Confidence0.3220338983050847\n",
            "Lift4.506672147735896\n",
            "==========================\n",
            "Rule: shrimp-- >frozen vegetables\n",
            "Support0.005332622317024397\n",
            "Confidence0.23255813953488375\n",
            "Lift3.2545123221103784\n",
            "==========================\n",
            "Rule: spaghetti-- >ground beef\n",
            "Support0.004799360085321957\n",
            "Confidence0.5714285714285714\n",
            "Lift3.2819951870487856\n",
            "==========================\n",
            "Rule: nan-- >escalope\n",
            "Support0.005732568990801226\n",
            "Confidence0.3006993006993007\n",
            "Lift3.790832696715049\n",
            "==========================\n",
            "Rule: nan-- >escalope\n",
            "Support0.005865884548726837\n",
            "Confidence0.3728813559322034\n",
            "Lift4.700811850163794\n",
            "==========================\n",
            "Rule: spaghetti-- >frozen vegetables\n",
            "Support0.008665511265164644\n",
            "Confidence0.31100478468899523\n",
            "Lift3.165328208890303\n",
            "==========================\n",
            "Rule: frozen vegetables-- >olive oil\n",
            "Support0.004799360085321957\n",
            "Confidence0.20338983050847456\n",
            "Lift3.088314005352364\n",
            "==========================\n",
            "Rule: shrimp-- >frozen vegetables\n",
            "Support0.007199040127982935\n",
            "Confidence0.30508474576271183\n",
            "Lift3.200616332819722\n",
            "==========================\n",
            "Rule: spaghetti-- >frozen vegetables\n",
            "Support0.005732568990801226\n",
            "Confidence0.20574162679425836\n",
            "Lift3.1240241752707125\n",
            "==========================\n",
            "Rule: spaghetti-- >shrimp\n",
            "Support0.005999200106652446\n",
            "Confidence0.21531100478468898\n",
            "Lift3.0131489680782684\n",
            "==========================\n",
            "Rule: spaghetti-- >frozen vegetables\n",
            "Support0.006665777896280496\n",
            "Confidence0.23923444976076558\n",
            "Lift3.4980460188216425\n",
            "==========================\n",
            "Rule: spaghetti-- >grated cheese\n",
            "Support0.005332622317024397\n",
            "Confidence0.3225806451612903\n",
            "Lift3.283144395325426\n",
            "==========================\n",
            "Rule: ground beef-- >mineral water\n",
            "Support0.006665777896280496\n",
            "Confidence0.39062500000000006\n",
            "Lift3.975682666214383\n",
            "==========================\n",
            "Rule: nan-- >ground beef\n",
            "Support0.015997866951073192\n",
            "Confidence0.3234501347708895\n",
            "Lift3.2919938411349285\n",
            "==========================\n",
            "Rule: spaghetti-- >ground beef\n",
            "Support0.006399146780429276\n",
            "Confidence0.3934426229508197\n",
            "Lift4.004359721511667\n",
            "==========================\n",
            "Rule: olive oil-- >ground beef\n",
            "Support0.004932675643247567\n",
            "Confidence0.22424242424242427\n",
            "Lift3.40494417862839\n",
            "==========================\n",
            "Rule: nan-- >ground beef\n",
            "Support0.005332622317024397\n",
            "Confidence0.3773584905660377\n",
            "Lift3.840659481324083\n",
            "==========================\n",
            "Rule: spaghetti-- >shrimp\n",
            "Support0.005999200106652446\n",
            "Confidence0.5232558139534884\n",
            "Lift3.005315360233627\n",
            "==========================\n",
            "Rule: spaghetti-- >olive oil\n",
            "Support0.007199040127982935\n",
            "Confidence0.20300751879699247\n",
            "Lift3.0825089038385434\n",
            "==========================\n",
            "Rule: soup-- >mineral water\n",
            "Support0.005199306759098787\n",
            "Confidence0.22543352601156072\n",
            "Lift3.4230301186492245\n",
            "==========================\n",
            "Rule: nan-- >olive oil\n",
            "Support0.007998933475536596\n",
            "Confidence0.2714932126696833\n",
            "Lift4.13077198425009\n",
            "==========================\n",
            "Rule: shrimp-- >nan\n",
            "Support0.005065991201173177\n",
            "Confidence0.3220338983050847\n",
            "Lift4.515095833993347\n",
            "==========================\n",
            "Rule: pancakes-- >spaghetti\n",
            "Support0.005065991201173177\n",
            "Confidence0.20105820105820105\n",
            "Lift3.0529100529100526\n",
            "==========================\n",
            "Rule: shrimp-- >frozen vegetables\n",
            "Support0.005332622317024397\n",
            "Confidence0.23255813953488375\n",
            "Lift3.260595522712454\n",
            "==========================\n",
            "Rule: spaghetti-- >nan\n",
            "Support0.004799360085321957\n",
            "Confidence0.5714285714285714\n",
            "Lift3.2819951870487856\n",
            "==========================\n",
            "Rule: spaghetti-- >frozen vegetables\n",
            "Support0.008665511265164644\n",
            "Confidence0.31100478468899523\n",
            "Lift3.165328208890303\n",
            "==========================\n",
            "Rule: frozen vegetables-- >olive oil\n",
            "Support0.004799360085321957\n",
            "Confidence0.20338983050847456\n",
            "Lift3.094578333963626\n",
            "==========================\n",
            "Rule: shrimp-- >frozen vegetables\n",
            "Support0.007199040127982935\n",
            "Confidence0.30508474576271183\n",
            "Lift3.200616332819722\n",
            "==========================\n",
            "Rule: spaghetti-- >frozen vegetables\n",
            "Support0.005732568990801226\n",
            "Confidence0.20574162679425836\n",
            "Lift3.1303609383037156\n",
            "==========================\n",
            "Rule: spaghetti-- >shrimp\n",
            "Support0.005999200106652446\n",
            "Confidence0.21531100478468898\n",
            "Lift3.0187810222242093\n",
            "==========================\n",
            "Rule: spaghetti-- >frozen vegetables\n",
            "Support0.006665777896280496\n",
            "Confidence0.23923444976076558\n",
            "Lift3.4980460188216425\n",
            "==========================\n",
            "Rule: spaghetti-- >nan\n",
            "Support0.005332622317024397\n",
            "Confidence0.3225806451612903\n",
            "Lift3.283144395325426\n",
            "==========================\n",
            "Rule: nan-- >ground beef\n",
            "Support0.006665777896280496\n",
            "Confidence0.39062500000000006\n",
            "Lift3.975682666214383\n",
            "==========================\n",
            "Rule: spaghetti-- >nan\n",
            "Support0.006399146780429276\n",
            "Confidence0.3934426229508197\n",
            "Lift4.004359721511667\n",
            "==========================\n",
            "Rule: olive oil-- >nan\n",
            "Support0.004932675643247567\n",
            "Confidence0.22424242424242427\n",
            "Lift3.4118507591124225\n",
            "==========================\n",
            "Rule: spaghetti-- >shrimp\n",
            "Support0.005999200106652446\n",
            "Confidence0.5232558139534884\n",
            "Lift3.005315360233627\n",
            "==========================\n",
            "Rule: spaghetti-- >nan\n",
            "Support0.007199040127982935\n",
            "Confidence0.20300751879699247\n",
            "Lift3.088761457396025\n",
            "==========================\n",
            "Rule: soup-- >nan\n",
            "Support0.005199306759098787\n",
            "Confidence0.22543352601156072\n",
            "Lift3.429973384609973\n",
            "==========================\n",
            "Rule: pancakes-- >nan\n",
            "Support0.005065991201173177\n",
            "Confidence0.20105820105820105\n",
            "Lift3.0591025682303568\n",
            "==========================\n"
          ]
        }
      ],
      "source": [
        "for item in association_rules:\n",
        "  pair = item[0]\n",
        "\n",
        "  items = [x for x in pair]\n",
        "  print(\"Rule: \" + items[0] + \"-- >\" + items[1])\n",
        "\n",
        "  support = item[1]\n",
        "  print(\"Support\" + str(item[1]))\n",
        "\n",
        "  confi = str(item[2][0][2])\n",
        "  lift = str(item[2][0][3])\n",
        "  print(\"Confidence\" + confi)\n",
        "  print(\"Lift\" + lift)\n",
        "  print(\"==========================\")"
      ]
    },
    {
      "cell_type": "code",
      "execution_count": 14,
      "metadata": {
        "id": "MUCELgCqCRmo"
      },
      "outputs": [],
      "source": [
        "rule = []\n",
        "supports = []\n",
        "confis = []\n",
        "lifts = []\n",
        "\n",
        "for item in association_rules:\n",
        "  pair = item[0]\n",
        "\n",
        "  items = [x for x in pair]\n",
        "  r = items[0] + \"-- >\" + items[1]\n",
        "  rule.append(r)\n",
        "\n",
        "  support = item[1]\n",
        "  supports.append(support)\n",
        "  #print(\"Support\" + str(item[1]))\n",
        "\n",
        "  confi = item[2][0][2]\n",
        "  lift = item[2][0][3]\n",
        "  confis.append(confi)\n",
        "  lifts.append(lift)"
      ]
    },
    {
      "cell_type": "code",
      "execution_count": 15,
      "metadata": {
        "colab": {
          "base_uri": "https://localhost:8080/"
        },
        "id": "zProM6DOC4QS",
        "outputId": "40ed3ef2-db76-4d92-d33f-758933852c90"
      },
      "outputs": [
        {
          "data": {
            "text/plain": [
              "['escalope-- >mushroom cream sauce',\n",
              " 'escalope-- >pasta',\n",
              " 'ground beef-- >herb & pepper',\n",
              " 'ground beef-- >tomato sauce',\n",
              " 'olive oil-- >whole wheat pasta',\n",
              " 'shrimp-- >pasta',\n",
              " 'shrimp-- >frozen vegetables',\n",
              " 'spaghetti-- >ground beef',\n",
              " 'nan-- >escalope',\n",
              " 'nan-- >escalope',\n",
              " 'spaghetti-- >frozen vegetables',\n",
              " 'frozen vegetables-- >olive oil',\n",
              " 'shrimp-- >frozen vegetables',\n",
              " 'spaghetti-- >frozen vegetables',\n",
              " 'spaghetti-- >shrimp',\n",
              " 'spaghetti-- >frozen vegetables',\n",
              " 'spaghetti-- >grated cheese',\n",
              " 'ground beef-- >mineral water',\n",
              " 'nan-- >ground beef',\n",
              " 'spaghetti-- >ground beef',\n",
              " 'olive oil-- >ground beef',\n",
              " 'nan-- >ground beef',\n",
              " 'spaghetti-- >shrimp',\n",
              " 'spaghetti-- >olive oil',\n",
              " 'soup-- >mineral water',\n",
              " 'nan-- >olive oil',\n",
              " 'shrimp-- >nan',\n",
              " 'pancakes-- >spaghetti',\n",
              " 'shrimp-- >frozen vegetables',\n",
              " 'spaghetti-- >nan',\n",
              " 'spaghetti-- >frozen vegetables',\n",
              " 'frozen vegetables-- >olive oil',\n",
              " 'shrimp-- >frozen vegetables',\n",
              " 'spaghetti-- >frozen vegetables',\n",
              " 'spaghetti-- >shrimp',\n",
              " 'spaghetti-- >frozen vegetables',\n",
              " 'spaghetti-- >nan',\n",
              " 'nan-- >ground beef',\n",
              " 'spaghetti-- >nan',\n",
              " 'olive oil-- >nan',\n",
              " 'spaghetti-- >shrimp',\n",
              " 'spaghetti-- >nan',\n",
              " 'soup-- >nan',\n",
              " 'pancakes-- >nan']"
            ]
          },
          "execution_count": 15,
          "metadata": {},
          "output_type": "execute_result"
        }
      ],
      "source": [
        "rule"
      ]
    },
    {
      "cell_type": "code",
      "execution_count": 16,
      "metadata": {
        "colab": {
          "base_uri": "https://localhost:8080/"
        },
        "id": "0graBUvbC5Bm",
        "outputId": "07b57caf-13af-4d86-cbfa-b56bd593e93e"
      },
      "outputs": [
        {
          "data": {
            "text/plain": [
              "[3.790832696715049,\n",
              " 4.700811850163794,\n",
              " 3.2919938411349285,\n",
              " 3.840659481324083,\n",
              " 4.122410097642296,\n",
              " 4.506672147735896,\n",
              " 3.2545123221103784,\n",
              " 3.2819951870487856,\n",
              " 3.790832696715049,\n",
              " 4.700811850163794,\n",
              " 3.165328208890303,\n",
              " 3.088314005352364,\n",
              " 3.200616332819722,\n",
              " 3.1240241752707125,\n",
              " 3.0131489680782684,\n",
              " 3.4980460188216425,\n",
              " 3.283144395325426,\n",
              " 3.975682666214383,\n",
              " 3.2919938411349285,\n",
              " 4.004359721511667,\n",
              " 3.40494417862839,\n",
              " 3.840659481324083,\n",
              " 3.005315360233627,\n",
              " 3.0825089038385434,\n",
              " 3.4230301186492245,\n",
              " 4.13077198425009,\n",
              " 4.515095833993347,\n",
              " 3.0529100529100526,\n",
              " 3.260595522712454,\n",
              " 3.2819951870487856,\n",
              " 3.165328208890303,\n",
              " 3.094578333963626,\n",
              " 3.200616332819722,\n",
              " 3.1303609383037156,\n",
              " 3.0187810222242093,\n",
              " 3.4980460188216425,\n",
              " 3.283144395325426,\n",
              " 3.975682666214383,\n",
              " 4.004359721511667,\n",
              " 3.4118507591124225,\n",
              " 3.005315360233627,\n",
              " 3.088761457396025,\n",
              " 3.429973384609973,\n",
              " 3.0591025682303568]"
            ]
          },
          "execution_count": 16,
          "metadata": {},
          "output_type": "execute_result"
        }
      ],
      "source": [
        "lifts"
      ]
    },
    {
      "cell_type": "markdown",
      "metadata": {
        "id": "m0wW7sAYDAjR"
      },
      "source": [
        "## Create dictionary for dataframe"
      ]
    },
    {
      "cell_type": "code",
      "execution_count": 17,
      "metadata": {
        "id": "8PTJQQ_JC8Br"
      },
      "outputs": [],
      "source": [
        "dct = {\n",
        "    \"Rule\": rule,\n",
        "    \"Support\":supports,\n",
        "    \"Confidence\":confis,\n",
        "    \"Lift\":lifts\n",
        "}"
      ]
    },
    {
      "cell_type": "code",
      "execution_count": 18,
      "metadata": {
        "colab": {
          "base_uri": "https://localhost:8080/",
          "height": 206
        },
        "id": "i5k70en1C6yh",
        "outputId": "593ddf1e-cf62-4d16-be7b-6ed611d5dd86"
      },
      "outputs": [
        {
          "data": {
            "text/html": [
              "<div>\n",
              "<style scoped>\n",
              "    .dataframe tbody tr th:only-of-type {\n",
              "        vertical-align: middle;\n",
              "    }\n",
              "\n",
              "    .dataframe tbody tr th {\n",
              "        vertical-align: top;\n",
              "    }\n",
              "\n",
              "    .dataframe thead th {\n",
              "        text-align: right;\n",
              "    }\n",
              "</style>\n",
              "<table border=\"1\" class=\"dataframe\">\n",
              "  <thead>\n",
              "    <tr style=\"text-align: right;\">\n",
              "      <th></th>\n",
              "      <th>Rule</th>\n",
              "      <th>Support</th>\n",
              "      <th>Confidence</th>\n",
              "      <th>Lift</th>\n",
              "    </tr>\n",
              "  </thead>\n",
              "  <tbody>\n",
              "    <tr>\n",
              "      <th>0</th>\n",
              "      <td>escalope-- &gt;mushroom cream sauce</td>\n",
              "      <td>0.005733</td>\n",
              "      <td>0.300699</td>\n",
              "      <td>3.790833</td>\n",
              "    </tr>\n",
              "    <tr>\n",
              "      <th>1</th>\n",
              "      <td>escalope-- &gt;pasta</td>\n",
              "      <td>0.005866</td>\n",
              "      <td>0.372881</td>\n",
              "      <td>4.700812</td>\n",
              "    </tr>\n",
              "    <tr>\n",
              "      <th>2</th>\n",
              "      <td>ground beef-- &gt;herb &amp; pepper</td>\n",
              "      <td>0.015998</td>\n",
              "      <td>0.323450</td>\n",
              "      <td>3.291994</td>\n",
              "    </tr>\n",
              "    <tr>\n",
              "      <th>3</th>\n",
              "      <td>ground beef-- &gt;tomato sauce</td>\n",
              "      <td>0.005333</td>\n",
              "      <td>0.377358</td>\n",
              "      <td>3.840659</td>\n",
              "    </tr>\n",
              "    <tr>\n",
              "      <th>4</th>\n",
              "      <td>olive oil-- &gt;whole wheat pasta</td>\n",
              "      <td>0.007999</td>\n",
              "      <td>0.271493</td>\n",
              "      <td>4.122410</td>\n",
              "    </tr>\n",
              "  </tbody>\n",
              "</table>\n",
              "</div>"
            ],
            "text/plain": [
              "                               Rule   Support  Confidence      Lift\n",
              "0  escalope-- >mushroom cream sauce  0.005733    0.300699  3.790833\n",
              "1                 escalope-- >pasta  0.005866    0.372881  4.700812\n",
              "2      ground beef-- >herb & pepper  0.015998    0.323450  3.291994\n",
              "3       ground beef-- >tomato sauce  0.005333    0.377358  3.840659\n",
              "4    olive oil-- >whole wheat pasta  0.007999    0.271493  4.122410"
            ]
          },
          "execution_count": 18,
          "metadata": {},
          "output_type": "execute_result"
        }
      ],
      "source": [
        "df_association = pd.DataFrame(dct)\n",
        "df_association.head()"
      ]
    },
    {
      "cell_type": "markdown",
      "metadata": {
        "id": "86idbZN1DVSd"
      },
      "source": [
        "## Save the association results to csv file"
      ]
    },
    {
      "cell_type": "code",
      "execution_count": 19,
      "metadata": {
        "id": "8cdQhe72DJJI"
      },
      "outputs": [],
      "source": [
        "df_association.to_csv(\"Association_results-1.csv\",index=False)"
      ]
    }
  ],
  "metadata": {
    "accelerator": "GPU",
    "colab": {
      "authorship_tag": "ABX9TyPwko1XFWNuy7odTVRpvg04",
      "gpuType": "T4",
      "include_colab_link": true,
      "provenance": []
    },
    "kernelspec": {
      "display_name": "Python 3",
      "name": "python3"
    },
    "language_info": {
      "codemirror_mode": {
        "name": "ipython",
        "version": 3
      },
      "file_extension": ".py",
      "mimetype": "text/x-python",
      "name": "python",
      "nbconvert_exporter": "python",
      "pygments_lexer": "ipython3",
      "version": "3.10.1"
    }
  },
  "nbformat": 4,
  "nbformat_minor": 0
}
